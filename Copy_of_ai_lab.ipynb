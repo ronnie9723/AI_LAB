{
  "nbformat": 4,
  "nbformat_minor": 0,
  "metadata": {
    "colab": {
      "name": "Copy of ai lab.ipynb",
      "provenance": [],
      "include_colab_link": true
    },
    "kernelspec": {
      "name": "python3",
      "display_name": "Python 3"
    }
  },
  "cells": [
    {
      "cell_type": "markdown",
      "metadata": {
        "id": "view-in-github",
        "colab_type": "text"
      },
      "source": [
        "<a href=\"https://colab.research.google.com/github/ronnie9723/AI_LAB/blob/main/Copy_of_ai_lab.ipynb\" target=\"_parent\"><img src=\"https://colab.research.google.com/assets/colab-badge.svg\" alt=\"Open In Colab\"/></a>"
      ]
    },
    {
      "cell_type": "code",
      "metadata": {
        "colab": {
          "base_uri": "https://localhost:8080/"
        },
        "id": "haIIKQVtenOK",
        "outputId": "e3f8f4b5-0b19-41b7-cf3e-c3f98f3bb138"
      },
      "source": [
        "data = []\r\n",
        "choice = 'random'\r\n",
        "\r\n",
        "def line():\r\n",
        "    print('=================================')\r\n",
        "\r\n",
        "def show_menu():\r\n",
        "    line()\r\n",
        "    print('MENU')\r\n",
        "    line()\r\n",
        "    print('1. Add Subject to the semester')\r\n",
        "    print('2. Remove subject from semester')\r\n",
        "    print('3. View all courses')\r\n",
        "    print('4. Exit')\r\n",
        "    line();\r\n",
        "    choice = input('Enter your choice: ')\r\n",
        "    return choice\r\n",
        "\r\n",
        "while choice != '4':\r\n",
        "    choice = show_menu()\r\n",
        "    if choice == '1':\r\n",
        "        sub = input('Please add your courses of the semester.')\r\n",
        "        data.append(sub)\r\n",
        "        print('Subject', sub, 'added')\r\n",
        "    elif choice == '2':\r\n",
        "        sub = input('enter the course code to remove the course. ')\r\n",
        "        if sub in data:\r\n",
        "            data.remove(sub)\r\n",
        "            print('Removed subject', sub)\r\n",
        "        else:\r\n",
        "            print('Could not find the subject', sub)\r\n",
        "    elif choice == '3':\r\n",
        "        print('All courses:')\r\n",
        "        for sub in data:\r\n",
        "            print(sub)\r\n",
        "    elif choice == '4':\r\n",
        "        print('Goodbye!')\r\n",
        "    else:\r\n",
        "        print('Please enter one of 1, 2, 3 or 4')\r\n",
        "        "
      ],
      "execution_count": null,
      "outputs": [
        {
          "output_type": "stream",
          "text": [
            "---------------------------\n",
            "MENU\n",
            "---------------------------\n",
            "1. Add item\n",
            "2. Mark as done\n",
            "3. View list\n",
            "4. Exit\n",
            "---------------------------\n",
            "Enter your choice: 1\n",
            "What is to be done? eating\n",
            "Item eating added\n",
            "---------------------------\n",
            "MENU\n",
            "---------------------------\n",
            "1. Add item\n",
            "2. Mark as done\n",
            "3. View list\n",
            "4. Exit\n",
            "---------------------------\n",
            "Enter your choice: 2\n",
            "What is to be marked as done? eating\n",
            "Removed item eating\n",
            "---------------------------\n",
            "MENU\n",
            "---------------------------\n",
            "1. Add item\n",
            "2. Mark as done\n",
            "3. View list\n",
            "4. Exit\n",
            "---------------------------\n",
            "Enter your choice: walking\n",
            "Please enter one of 1, 2, 3 or 4\n",
            "---------------------------\n",
            "MENU\n",
            "---------------------------\n",
            "1. Add item\n",
            "2. Mark as done\n",
            "3. View list\n",
            "4. Exit\n",
            "---------------------------\n",
            "Enter your choice: 4\n",
            "Goodbye!\n"
          ],
          "name": "stdout"
        }
      ]
    }
  ]
}