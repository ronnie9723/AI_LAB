{
  "nbformat": 4,
  "nbformat_minor": 0,
  "metadata": {
    "colab": {
      "name": "Copy of ai lab.ipynb",
      "provenance": [],
      "collapsed_sections": [],
      "include_colab_link": true
    },
    "kernelspec": {
      "name": "python3",
      "display_name": "Python 3"
    }
  },
  "cells": [
    {
      "cell_type": "markdown",
      "metadata": {
        "id": "view-in-github",
        "colab_type": "text"
      },
      "source": [
        "<a href=\"https://colab.research.google.com/github/ronnie9723/AI_LAB/blob/main/Copy_of_ai_lab.ipynb\" target=\"_parent\"><img src=\"https://colab.research.google.com/assets/colab-badge.svg\" alt=\"Open In Colab\"/></a>"
      ]
    },
    {
      "cell_type": "code",
      "metadata": {
        "colab": {
          "base_uri": "https://localhost:8080/"
        },
        "id": "haIIKQVtenOK",
        "outputId": "15343415-1910-4a9a-9182-ecd3fddf8c7b"
      },
      "source": [
        "data = []\r\n",
        "choice = 'random'\r\n",
        "\r\n",
        "def line():\r\n",
        "    print('=================================')\r\n",
        "\r\n",
        "def show_menu():\r\n",
        "    line()\r\n",
        "    print('MENU')\r\n",
        "    line()\r\n",
        "    print('1. Add Subject to the semester')\r\n",
        "    print('2. Remove subject from semester')\r\n",
        "    print('3. View all courses')\r\n",
        "    print('4. Exit')\r\n",
        "    line();\r\n",
        "    choice = input('Enter your choice: ')\r\n",
        "    return choice\r\n",
        "\r\n",
        "while choice != '4':\r\n",
        "    choice = show_menu()\r\n",
        "    if choice == '1':\r\n",
        "        sub = input('Please add your courses of the semester.')\r\n",
        "        data.append(sub)\r\n",
        "        print('Subject', sub, 'added')\r\n",
        "    elif choice == '2':\r\n",
        "        sub = input('enter the course code to remove the course. ')\r\n",
        "        if sub in data:\r\n",
        "            data.remove(sub)\r\n",
        "            print('Removed subject', sub)\r\n",
        "        else:\r\n",
        "            print('Could not find the subject', sub)\r\n",
        "    elif choice == '3':\r\n",
        "        print('All courses:')\r\n",
        "        for sub in data:\r\n",
        "            print(sub)\r\n",
        "    elif choice == '4':\r\n",
        "        print('Goodbye!')\r\n",
        "    else:\r\n",
        "        print('Please enter one of 1, 2, 3 or 4')\r\n",
        "        "
      ],
      "execution_count": 1,
      "outputs": [
        {
          "output_type": "stream",
          "text": [
            "=================================\n",
            "MENU\n",
            "=================================\n",
            "1. Add Subject to the semester\n",
            "2. Remove subject from semester\n",
            "3. View all courses\n",
            "4. Exit\n",
            "=================================\n",
            "Enter your choice: 1\n",
            "Please add your courses of the semester.cse121\n",
            "Subject cse121 added\n",
            "=================================\n",
            "MENU\n",
            "=================================\n",
            "1. Add Subject to the semester\n",
            "2. Remove subject from semester\n",
            "3. View all courses\n",
            "4. Exit\n",
            "=================================\n",
            "Enter your choice: 1\n",
            "Please add your courses of the semester.math121\n",
            "Subject math121 added\n",
            "=================================\n",
            "MENU\n",
            "=================================\n",
            "1. Add Subject to the semester\n",
            "2. Remove subject from semester\n",
            "3. View all courses\n",
            "4. Exit\n",
            "=================================\n",
            "Enter your choice: 3\n",
            "All courses:\n",
            "cse121\n",
            "math121\n",
            "=================================\n",
            "MENU\n",
            "=================================\n",
            "1. Add Subject to the semester\n",
            "2. Remove subject from semester\n",
            "3. View all courses\n",
            "4. Exit\n",
            "=================================\n",
            "Enter your choice: 2\n",
            "enter the course code to remove the course. math121\n",
            "Removed subject math121\n",
            "=================================\n",
            "MENU\n",
            "=================================\n",
            "1. Add Subject to the semester\n",
            "2. Remove subject from semester\n",
            "3. View all courses\n",
            "4. Exit\n",
            "=================================\n",
            "Enter your choice: 4\n",
            "Goodbye!\n"
          ],
          "name": "stdout"
        }
      ]
    }
  ]
}